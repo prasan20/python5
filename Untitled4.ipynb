{
 "cells": [
  {
   "cell_type": "code",
   "execution_count": 2,
   "id": "30ebd463",
   "metadata": {},
   "outputs": [
    {
     "name": "stdout",
     "output_type": "stream",
     "text": [
      "yes\n"
     ]
    }
   ],
   "source": [
    "name='kiran'\n",
    "mark=50\n",
    "if name=='kiran' and mark==50:\n",
    "    print(\"yes\")\n",
    "else:\n",
    "    print('no')"
   ]
  },
  {
   "cell_type": "code",
   "execution_count": 3,
   "id": "874752ff",
   "metadata": {},
   "outputs": [
    {
     "name": "stdout",
     "output_type": "stream",
     "text": [
      "yes\n"
     ]
    }
   ],
   "source": [
    "name='kiran'\n",
    "mark=55\n",
    "if name=='kiran' or mark==50:\n",
    "    print(\"yes\")\n",
    "else:\n",
    "    print('no')"
   ]
  },
  {
   "cell_type": "code",
   "execution_count": 16,
   "id": "ff53cbcf",
   "metadata": {},
   "outputs": [
    {
     "name": "stdout",
     "output_type": "stream",
     "text": [
      "first class\n"
     ]
    }
   ],
   "source": [
    "name='Kiran'\n",
    "mark=81\n",
    "\n",
    "if name=='Kiran':\n",
    "    if mark>80:\n",
    "        print('first class')\n",
    "    \n",
    "    elif (mark>=50 and mark <=79):\n",
    "        print('pass')\n",
    "    else:\n",
    "        print('fail')\n",
    "else:\n",
    "    print('name is not kiran')"
   ]
  },
  {
   "cell_type": "code",
   "execution_count": 17,
   "id": "e3afcb3b",
   "metadata": {},
   "outputs": [
    {
     "name": "stdout",
     "output_type": "stream",
     "text": [
      "1\n",
      "2\n",
      "3\n",
      "4\n"
     ]
    }
   ],
   "source": [
    "a=1\n",
    "while a<5:\n",
    "    print(a)\n",
    "    a=a+1"
   ]
  },
  {
   "cell_type": "code",
   "execution_count": 19,
   "id": "7c86eadd",
   "metadata": {},
   "outputs": [
    {
     "name": "stdout",
     "output_type": "stream",
     "text": [
      "Enter yes or no\n",
      "yes\n",
      "Enter red or green or orange\n",
      "red\n",
      "stop\n"
     ]
    }
   ],
   "source": [
    "police=input(\"Enter yes or no\\n\")\n",
    "signal=input(\"Enter red or green or orange\\n\")\n",
    "if(police=='yes'):\n",
    "    if(signal=='red'):\n",
    "        print('stop')\n",
    "    elif(signal=='orange'):\n",
    "        print('slow')\n",
    "elif(police=='no'):\n",
    "    if(signal=='orange'):\n",
    "        print('go')\n",
    "    elif(signal=='red'):\n",
    "        print('go')\n",
    "else:\n",
    "    print('go')\n",
    "    \n",
    "    \n"
   ]
  },
  {
   "cell_type": "code",
   "execution_count": 20,
   "id": "055be69a",
   "metadata": {},
   "outputs": [
    {
     "name": "stdout",
     "output_type": "stream",
     "text": [
      "Enter yes or no\n",
      "yes\n",
      "Enter red or green or orange\n",
      "orange\n",
      "slow\n"
     ]
    }
   ],
   "source": [
    "police=input(\"Enter yes or no\\n\")\n",
    "signal=input(\"Enter red or green or orange\\n\")\n",
    "if(police=='yes'):\n",
    "    if(signal=='red'):\n",
    "        print('output is stop')\n",
    "    elif(signal=='orange'):\n",
    "        print('output is slow')\n",
    "elif(police=='no'):\n",
    "    if(signal=='orange'):\n",
    "        print('output is go')\n",
    "    elif(signal=='red'):\n",
    "        print('output is go')\n",
    "else:\n",
    "    print('go')\n",
    "    \n",
    "    \n"
   ]
  },
  {
   "cell_type": "code",
   "execution_count": null,
   "id": "3e81ab9b",
   "metadata": {},
   "outputs": [],
   "source": []
  }
 ],
 "metadata": {
  "kernelspec": {
   "display_name": "Python 3 (ipykernel)",
   "language": "python",
   "name": "python3"
  },
  "language_info": {
   "codemirror_mode": {
    "name": "ipython",
    "version": 3
   },
   "file_extension": ".py",
   "mimetype": "text/x-python",
   "name": "python",
   "nbconvert_exporter": "python",
   "pygments_lexer": "ipython3",
   "version": "3.9.13"
  }
 },
 "nbformat": 4,
 "nbformat_minor": 5
}
